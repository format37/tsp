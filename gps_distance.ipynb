{
 "cells": [
  {
   "cell_type": "code",
   "execution_count": 1,
   "id": "1d832875",
   "metadata": {},
   "outputs": [],
   "source": [
    "import math"
   ]
  },
  {
   "cell_type": "code",
   "execution_count": 2,
   "id": "1853ef28",
   "metadata": {},
   "outputs": [],
   "source": [
    "def my_atan2(y,x):\n",
    "    # explanation for langueges wich does not have atan2 function\n",
    "    if x>0:\n",
    "        return math.atan(y/x)\n",
    "    if x<0 and y>=0:\n",
    "        return math.atan(y/x)+math.pi\n",
    "    if x<0 and y<0:\n",
    "        return math.atan(y/x)-math.pi\n",
    "    if x==0 and y>0:\n",
    "        return math.pi/2\n",
    "    if x==0 and y<0:\n",
    "        return -math.pi/2\n",
    "    if x==0 and y==0:\n",
    "        return 0."
   ]
  },
  {
   "cell_type": "code",
   "execution_count": 3,
   "id": "94a08a1c",
   "metadata": {},
   "outputs": [],
   "source": [
    "def distance(llat1, llong1, llat2, llong2):\n",
    "    # rad - Earth sphere radius\n",
    "    rad = 6372795\n",
    "\n",
    "    # radians\n",
    "    lat1 = llat1*math.pi/180.\n",
    "    lat2 = llat2*math.pi/180.\n",
    "    long1 = llong1*math.pi/180.\n",
    "    long2 = llong2*math.pi/180.\n",
    "\n",
    "    # cosines and sines of latitudes and longitude differences\n",
    "    cl1 = math.cos(lat1)\n",
    "    cl2 = math.cos(lat2)\n",
    "    sl1 = math.sin(lat1)\n",
    "    sl2 = math.sin(lat2)\n",
    "    delta = long2 - long1\n",
    "    cdelta = math.cos(delta)\n",
    "    sdelta = math.sin(delta)\n",
    "\n",
    "    # calculating the length of a great circle \n",
    "    y = math.sqrt(math.pow(cl2*sdelta,2)+math.pow(cl1*sl2-sl1*cl2*cdelta,2))\n",
    "    x = sl1*sl2+cl1*cl2*cdelta\n",
    "    ad = math.atan2(y,x)\n",
    "    dist = ad*rad\n",
    "\n",
    "    # calculation of initial azimuth\n",
    "    x = (cl1*sl2) - (sl1*cl2*cdelta)\n",
    "    y = sdelta*cl2\n",
    "    z = math.degrees(math.atan(-y/x))\n",
    "\n",
    "    if (x < 0):\n",
    "        z = z+180.\n",
    "\n",
    "    z2 = (z+180.) % 360. - 180.\n",
    "    z2 = - math.radians(z2)\n",
    "    anglerad2 = z2 - ((2*math.pi)*math.floor((z2/(2*math.pi))) )\n",
    "    angledeg = (anglerad2*180.)/math.pi\n",
    "\n",
    "    return dist, angledeg"
   ]
  },
  {
   "cell_type": "code",
   "execution_count": 4,
   "id": "84451fca",
   "metadata": {},
   "outputs": [
    {
     "name": "stdout",
     "output_type": "stream",
     "text": [
      "Distance >> 2552  [meters]\n",
      "Initial bearing >>  318.4876458636097 [degrees]\n"
     ]
    }
   ],
   "source": [
    "# Coordinates of two points\n",
    "llat1 = 55.752676\n",
    "llong1 = 37.623052\n",
    "\n",
    "llat2 = 55.769856\n",
    "llong2 = 37.596015\n",
    "\n",
    "dist, angledeg = distance(llat1, llong1, llat2, llong2)\n",
    "\n",
    "print('Distance >> %.0f' % dist, ' [meters]')\n",
    "print('Initial bearing >> ', angledeg, '[degrees]')"
   ]
  }
 ],
 "metadata": {
  "kernelspec": {
   "display_name": "Python 3 (ipykernel)",
   "language": "python",
   "name": "python3"
  },
  "language_info": {
   "codemirror_mode": {
    "name": "ipython",
    "version": 3
   },
   "file_extension": ".py",
   "mimetype": "text/x-python",
   "name": "python",
   "nbconvert_exporter": "python",
   "pygments_lexer": "ipython3",
   "version": "3.8.8"
  }
 },
 "nbformat": 4,
 "nbformat_minor": 5
}
